{
 "cells": [
  {
   "cell_type": "code",
   "execution_count": 10,
   "id": "a42c88fd-86ca-4d3c-87de-a1179324da19",
   "metadata": {},
   "outputs": [],
   "source": [
    "import pandas as pd"
   ]
  },
  {
   "cell_type": "code",
   "execution_count": null,
   "id": "57adbbf0-d75f-4854-a553-81aaa3a95a6a",
   "metadata": {},
   "outputs": [],
   "source": [
    "def modify_labels(label_val):\n",
    "    if "
   ]
  },
  {
   "cell_type": "code",
   "execution_count": 5,
   "id": "f34f7197-b947-4f90-8a59-8385c12df0dc",
   "metadata": {},
   "outputs": [],
   "source": [
    "data=pd.read_csv('./dataset/simplified/dev.tsv',sep='\\t')"
   ]
  },
  {
   "cell_type": "code",
   "execution_count": 13,
   "id": "e11ee5f7-03d6-4ed7-a528-5816bdbdcf9f",
   "metadata": {},
   "outputs": [],
   "source": [
    "for i,row in data.iterrows():\n",
    "    label_nos = row[1].split(',')"
   ]
  },
  {
   "cell_type": "code",
   "execution_count": null,
   "id": "e70ab1b0-724d-43e0-86df-0cf19102f851",
   "metadata": {},
   "outputs": [],
   "source": []
  }
 ],
 "metadata": {
  "kernelspec": {
   "display_name": "Python 3 (ipykernel)",
   "language": "python",
   "name": "python3"
  },
  "language_info": {
   "codemirror_mode": {
    "name": "ipython",
    "version": 3
   },
   "file_extension": ".py",
   "mimetype": "text/x-python",
   "name": "python",
   "nbconvert_exporter": "python",
   "pygments_lexer": "ipython3",
   "version": "3.11.2"
  }
 },
 "nbformat": 4,
 "nbformat_minor": 5
}
